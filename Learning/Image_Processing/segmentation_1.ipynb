{
 "cells": [
  {
   "cell_type": "markdown",
   "metadata": {},
   "source": [
    "### Imports"
   ]
  },
  {
   "cell_type": "code",
   "execution_count": null,
   "metadata": {},
   "outputs": [],
   "source": [
    "import cv2\n",
    "import numpy as np\n",
    "import matplotlib.pyplot as plt\n",
    "import pandas as pd"
   ]
  },
  {
   "cell_type": "markdown",
   "metadata": {},
   "source": [
    "### Utility Functions"
   ]
  },
  {
   "cell_type": "code",
   "execution_count": 1,
   "metadata": {},
   "outputs": [],
   "source": [
    "# Interface to show image files\n",
    "def imshow2(img, title=\"Image\") :\n",
    "    cv2.imshow(title, img)\n",
    "    input = cv2.waitKey(0)\n",
    "\n",
    "    # press x in the opened window to destroy all windows\n",
    "    if input == ord('x') :\n",
    "        cv2.destroyAllWindows()\n",
    "\n",
    "def plt_imshow2(img, title=\"\"):\n",
    "    \n",
    "    ax = plt.gca()\n",
    "    ax.axes.xaxis.set_visible(False)\n",
    "    ax.axes.yaxis.set_visible(False)\n",
    "    plt.imshow(cv2.cvtColor(img, cv2.COLOR_BGR2RGB))\n",
    "    if title != \"\" :\n",
    "        plt.title(title)\n",
    "    ax = plt.gca()\n",
    "    ax.axes.xaxis.set_visible(False)\n",
    "    plt.show()\n",
    "\n",
    "# display images , horizontally stacked\n",
    "def display_stacked2(img_list, title_list) :\n",
    "    assert(len(img_list)>0) \n",
    "\n",
    "    fin_img = img_list[0] \n",
    "    title = 'Images (Left to right) ' + title_list[0] \n",
    "    for i in range(1, len(img_list)) :\n",
    "        fin_img = cv2.hconcat([fin_img, img_list[i]]) \n",
    "        title += ' ' + title_list[i] \n",
    "\n",
    "    plt_imshow2(fin_img, title)"
   ]
  }
 ],
 "metadata": {
  "kernelspec": {
   "display_name": "Python 3.10.4 64-bit",
   "language": "python",
   "name": "python3"
  },
  "language_info": {
   "codemirror_mode": {
    "name": "ipython",
    "version": 3
   },
   "file_extension": ".py",
   "mimetype": "text/x-python",
   "name": "python",
   "nbconvert_exporter": "python",
   "pygments_lexer": "ipython3",
   "version": "3.10.4"
  },
  "orig_nbformat": 4,
  "vscode": {
   "interpreter": {
    "hash": "916dbcbb3f70747c44a77c7bcd40155683ae19c65e1c03b4aa3499c5328201f1"
   }
  }
 },
 "nbformat": 4,
 "nbformat_minor": 2
}
