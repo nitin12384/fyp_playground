{
 "cells": [
  {
   "cell_type": "code",
   "execution_count": 17,
   "metadata": {},
   "outputs": [],
   "source": [
    "import cv2\n",
    "import numpy as np\n",
    "from scipy import ndimage as ndi\n",
    "from skimage.feature import peak_local_max\n",
    "from skimage.segmentation import watershed\n",
    "import matplotlib.pyplot as plt\n",
    "\n",
    "from PIL import Image\n",
    "import glob\n",
    "import os"
   ]
  },
  {
   "cell_type": "code",
   "execution_count": 9,
   "metadata": {},
   "outputs": [],
   "source": [
    "def watershed_segmentation(img, show_image = False):\n",
    "    gray = cv2.cvtColor(img, cv2.COLOR_BGR2RGB)\n",
    "    filtro = cv2.pyrMeanShiftFiltering(img, 20, 40)\n",
    "    gray = cv2.cvtColor(filtro, cv2.COLOR_BGR2GRAY)\n",
    "    _, thresh = cv2.threshold(gray, 0, 255, cv2.THRESH_BINARY_INV | cv2.THRESH_OTSU)\n",
    "\n",
    "    if show_image:\n",
    "        contornos, _ = cv2.findContours(thresh, cv2.RETR_TREE, cv2.CHAIN_APPROX_SIMPLE)\n",
    "        buracos = []\n",
    "        for con in contornos:\n",
    "            area = cv2.contourArea(con)\n",
    "            if area < 1000:\n",
    "                buracos.append(con)\n",
    "        cv2.drawContours(thresh, buracos, -1, 255, -1)\n",
    "        dist = ndi.distance_transform_edt(thresh)\n",
    "        dist_visual = dist.copy()\n",
    "        local_max = peak_local_max(dist, indices=False, min_distance=20, labels=thresh)\n",
    "\n",
    "        markers = ndi.label(local_max, structure=np.ones((3, 3)))[0]\n",
    "\n",
    "        labels = watershed(-dist, markers, mask=thresh)\n",
    "        titulos = ['Original image', 'Binary Image', 'Distance Transform', 'Watershed']\n",
    "        imagens = [img, thresh, dist_visual, labels]\n",
    "        fig = plt.gcf()\n",
    "        fig.set_size_inches(16, 12)  \n",
    "        for i in range(4):\n",
    "            plt.subplot(2,2,i+1)\n",
    "            if (i == 3):\n",
    "                cmap = \"jet\"\n",
    "            else:\n",
    "                cmap = \"gray\"\n",
    "            plt.imshow(imagens[i], cmap)\n",
    "            plt.title(titulos[i]) \n",
    "            plt.xticks([]),plt.yticks([])     \n",
    "        plt.show()\n",
    "        \n",
    "    return thresh"
   ]
  },
  {
   "cell_type": "code",
   "execution_count": 15,
   "metadata": {},
   "outputs": [],
   "source": [
    "def get_img(path_str):\n",
    "    # reads at RGB\n",
    "    return np.asarray(Image.open(path_str))\n",
    "\n",
    "def read_true_mask(img_path_str):\n",
    "    return cv2.cvtColor(cv2.imread(img_path_str),cv2.COLOR_RGB2GRAY)\n",
    "    \n",
    "def find_metrics(seg_mask_img, org_mask_img):\n",
    "    f1, iou, pixacc = 0,0,0 \n",
    "    intersection = np.sum( np.logical_and(seg_mask_img, org_mask_img) )\n",
    "    union = np.sum ( np.logical_or(seg_mask_img, org_mask_img) )\n",
    "    cnt_seg = np.count_nonzero(seg_mask_img)\n",
    "    cnt_org = np.count_nonzero(org_mask_img)\n",
    "    h,w = seg_mask_img.shape\n",
    "    cnt_tot = h*w \n",
    "    cnt_true = intersection\n",
    "    cnt_false = cnt_tot - union \n",
    "\n",
    "    f1 = 2 * intersection / (cnt_seg + cnt_org) \n",
    "    iou = intersection / union\n",
    "    pixacc = (cnt_true + cnt_false) / cnt_tot\n",
    "\n",
    "    return f1, iou, pixacc\n",
    "\n",
    "def print_all(seg_mask_img, org_mask_img):\n",
    "    f1, iou, pixacc = find_metrics(seg_mask_img, org_mask_img)\n",
    "    print(\"f1 = \", f1, \" iou = \", iou, \" pixacc = \", pixacc)\n"
   ]
  },
  {
   "cell_type": "code",
   "execution_count": 14,
   "metadata": {},
   "outputs": [],
   "source": [
    "img_path = './final_dataset/images'\n",
    "mask_path = './final_dataset/masks'\n",
    "out_path = './final_dataset/masks_watershed/'\n",
    "\n",
    "imgs = glob.glob(os.path.join(img_path, \"*.png\"))\n",
    "masks = glob.glob(os.path.join(mask_path, \"*.png\")) \n",
    "\n",
    "imgs = sorted(imgs)\n",
    "masks = sorted(masks)\n",
    "\n",
    "num_images = len(masks)\n",
    "\n",
    "# generate masks and save to file"
   ]
  },
  {
   "cell_type": "code",
   "execution_count": 21,
   "metadata": {},
   "outputs": [
    {
     "name": "stdout",
     "output_type": "stream",
     "text": [
      "Processed image 10\n",
      "Processed image 20\n",
      "Processed image 30\n",
      "Processed image 40\n",
      "Processed image 50\n",
      "Processed image 60\n",
      "Processed image 70\n",
      "Processed image 80\n",
      "Processed image 90\n",
      "Processed image 100\n",
      "Processed image 110\n",
      "Processed image 120\n",
      "Processed image 130\n",
      "Processed image 140\n",
      "Processed image 150\n",
      "Processed image 160\n",
      "Processed image 170\n",
      "Processed image 180\n",
      "Processed image 190\n",
      "Processed image 200\n",
      "Processed image 210\n",
      "Processed image 220\n",
      "Processed image 230\n",
      "Processed image 240\n",
      "Processed image 250\n",
      "Processed image 260\n",
      "Processed image 270\n",
      "Processed image 280\n",
      "Processed image 290\n",
      "Processed image 300\n",
      "Processed image 310\n",
      "Processed image 320\n",
      "Processed image 330\n",
      "Processed image 340\n",
      "Processed image 350\n",
      "Processed image 360\n",
      "Processed image 370\n",
      "Processed image 380\n",
      "Processed image 390\n",
      "Processed image 400\n",
      "Processed image 410\n",
      "Processed image 420\n",
      "Processed image 430\n",
      "Processed image 440\n",
      "Processed image 450\n",
      "Processed image 460\n",
      "Processed image 470\n",
      "Processed image 480\n",
      "Processed image 490\n",
      "Processed image 500\n",
      "Processed image 510\n",
      "Processed image 520\n",
      "Processed image 530\n",
      "Processed image 540\n",
      "Processed image 550\n",
      "Processed image 560\n",
      "Processed image 570\n",
      "Processed image 580\n",
      "Processed image 590\n",
      "Processed image 600\n"
     ]
    },
    {
     "ename": "KeyboardInterrupt",
     "evalue": "",
     "output_type": "error",
     "traceback": [
      "\u001b[0;31m---------------------------------------------------------------------------\u001b[0m",
      "\u001b[0;31mKeyboardInterrupt\u001b[0m                         Traceback (most recent call last)",
      "Cell \u001b[0;32mIn [21], line 6\u001b[0m\n\u001b[1;32m      4\u001b[0m \u001b[39mfor\u001b[39;00m i \u001b[39min\u001b[39;00m \u001b[39mrange\u001b[39m(\u001b[39m0\u001b[39m, num_images):\n\u001b[1;32m      5\u001b[0m     img \u001b[39m=\u001b[39m get_img(imgs[i])\n\u001b[0;32m----> 6\u001b[0m     seg_mask_img \u001b[39m=\u001b[39m watershed_segmentation(img, show_image\u001b[39m=\u001b[39;49m\u001b[39mFalse\u001b[39;49;00m)\n\u001b[1;32m      7\u001b[0m     cv2\u001b[39m.\u001b[39mimwrite(out_path \u001b[39m+\u001b[39m \u001b[39m'\u001b[39m\u001b[39mimg_\u001b[39m\u001b[39m'\u001b[39m \u001b[39m+\u001b[39m \u001b[39mstr\u001b[39m(i) \u001b[39m+\u001b[39m \u001b[39m'\u001b[39m\u001b[39m.png\u001b[39m\u001b[39m'\u001b[39m,  seg_mask_img)\n\u001b[1;32m      9\u001b[0m     org_mask_img \u001b[39m=\u001b[39m read_true_mask(masks[i])\n",
      "Cell \u001b[0;32mIn [9], line 3\u001b[0m, in \u001b[0;36mwatershed_segmentation\u001b[0;34m(img, show_image)\u001b[0m\n\u001b[1;32m      1\u001b[0m \u001b[39mdef\u001b[39;00m \u001b[39mwatershed_segmentation\u001b[39m(img, show_image \u001b[39m=\u001b[39m \u001b[39mFalse\u001b[39;00m):\n\u001b[1;32m      2\u001b[0m     gray \u001b[39m=\u001b[39m cv2\u001b[39m.\u001b[39mcvtColor(img, cv2\u001b[39m.\u001b[39mCOLOR_BGR2RGB)\n\u001b[0;32m----> 3\u001b[0m     filtro \u001b[39m=\u001b[39m cv2\u001b[39m.\u001b[39;49mpyrMeanShiftFiltering(img, \u001b[39m20\u001b[39;49m, \u001b[39m40\u001b[39;49m)\n\u001b[1;32m      4\u001b[0m     gray \u001b[39m=\u001b[39m cv2\u001b[39m.\u001b[39mcvtColor(filtro, cv2\u001b[39m.\u001b[39mCOLOR_BGR2GRAY)\n\u001b[1;32m      5\u001b[0m     _, thresh \u001b[39m=\u001b[39m cv2\u001b[39m.\u001b[39mthreshold(gray, \u001b[39m0\u001b[39m, \u001b[39m255\u001b[39m, cv2\u001b[39m.\u001b[39mTHRESH_BINARY_INV \u001b[39m|\u001b[39m cv2\u001b[39m.\u001b[39mTHRESH_OTSU)\n",
      "\u001b[0;31mKeyboardInterrupt\u001b[0m: "
     ]
    }
   ],
   "source": [
    "\n",
    "f1_scores, iou_scores, pixacc_scores = [], [], []\n",
    "\n",
    "\n",
    "for i in range(0, num_images):\n",
    "    img = get_img(imgs[i])\n",
    "    seg_mask_img = watershed_segmentation(img, show_image=False)\n",
    "    cv2.imwrite(out_path + 'img_' + str(i).zfill(4) + '.png',  seg_mask_img)\n",
    "\n",
    "    org_mask_img = read_true_mask(masks[i])\n",
    "    f1, iou, pixacc = find_metrics(seg_mask_img, org_mask_img)\n",
    "    f1_scores.append(f1)\n",
    "    iou_scores.append(iou)\n",
    "    pixacc_scores.append(pixacc)\n",
    "\n",
    "    if (i+1)%10 == 0 : \n",
    "        print(\"Processed image\", str(i+1))\n"
   ]
  },
  {
   "cell_type": "code",
   "execution_count": 23,
   "metadata": {},
   "outputs": [
    {
     "name": "stdout",
     "output_type": "stream",
     "text": [
      "Number of processed images 603\n"
     ]
    }
   ],
   "source": [
    "num_processed = len(f1_scores)\n",
    "print(\"Number of processed images\", num_processed)"
   ]
  },
  {
   "cell_type": "code",
   "execution_count": 24,
   "metadata": {},
   "outputs": [
    {
     "name": "stdout",
     "output_type": "stream",
     "text": [
      "Average F1 score =  0.12610537369891314\n",
      "Average IOU score =  0.08452720900094587\n",
      "Average Pixacc score =  0.39267275410842717\n"
     ]
    }
   ],
   "source": [
    "sum_f1, sum_iou, sum_pixacc = 0,0,0 \n",
    "\n",
    "for i in range(0, num_processed):\n",
    "    sum_f1 += f1_scores[i]\n",
    "    sum_iou += iou_scores[i]\n",
    "    sum_pixacc += pixacc_scores[i]\n",
    "\n",
    "print(\"Average F1 score = \", str(sum_f1 / num_images))\n",
    "print(\"Average IOU score = \", str(sum_iou / num_images))\n",
    "print(\"Average Pixacc score = \", str(sum_pixacc / num_images))"
   ]
  }
 ],
 "metadata": {
  "kernelspec": {
   "display_name": "Python 3.10.6 64-bit",
   "language": "python",
   "name": "python3"
  },
  "language_info": {
   "codemirror_mode": {
    "name": "ipython",
    "version": 3
   },
   "file_extension": ".py",
   "mimetype": "text/x-python",
   "name": "python",
   "nbconvert_exporter": "python",
   "pygments_lexer": "ipython3",
   "version": "3.10.6"
  },
  "orig_nbformat": 4,
  "vscode": {
   "interpreter": {
    "hash": "916dbcbb3f70747c44a77c7bcd40155683ae19c65e1c03b4aa3499c5328201f1"
   }
  }
 },
 "nbformat": 4,
 "nbformat_minor": 2
}
