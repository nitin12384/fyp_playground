{
 "cells": [
  {
   "cell_type": "code",
   "execution_count": 13,
   "metadata": {},
   "outputs": [],
   "source": [
    "import os\n",
    "import numpy as np\n",
    "import pandas as pd\n",
    "import matplotlib.pyplot as plt\n",
    "import cv2\n",
    "import glob\n",
    "from PIL import Image\n",
    "pd.set_option('display.max_colwidth', None)\n",
    "\n",
    "import numpy as np\n",
    "import pandas as pd \n",
    "import matplotlib.pyplot as plt\n",
    "import cv2"
   ]
  },
  {
   "cell_type": "code",
   "execution_count": 21,
   "metadata": {},
   "outputs": [],
   "source": [
    "def kmeans_segmentation(img, show_image = False):\n",
    "\n",
    "    vectorized = img.reshape((-1,3))\n",
    "    vectorized = np.float32(vectorized)\n",
    "    #print(vectorized.shape)\n",
    "    criteria = (cv2.TERM_CRITERIA_EPS + cv2.TERM_CRITERIA_MAX_ITER, 100, 0.2)\n",
    "    K=2\n",
    "    attempts=10\n",
    "    ret,label,center=cv2.kmeans(vectorized,K,None,criteria,attempts,cv2.KMEANS_RANDOM_CENTERS)\n",
    "    label = label.flatten()\n",
    "    center = np.uint8(center)\n",
    "    res = center[label.flatten()]\n",
    "    result_image = res.reshape((img.shape))\n",
    "    grayscale = cv2.cvtColor(result_image, cv2.COLOR_RGB2GRAY)\n",
    "    _, thresh = cv2.threshold(grayscale, 0, 255, cv2.THRESH_BINARY_INV | cv2.THRESH_OTSU)\n",
    "\n",
    "    if(show_image):\n",
    "        plt.imshow(thresh)\n",
    "        plt.show()\n",
    "    return thresh"
   ]
  },
  {
   "cell_type": "code",
   "execution_count": 22,
   "metadata": {},
   "outputs": [],
   "source": [
    "# todo make it read image as binary\n",
    "def read_true_mask(img_path_str):\n",
    "    return cv2.cvtColor(cv2.imread(img_path_str),cv2.COLOR_RGB2GRAY)\n",
    "\n",
    "def get_img(path_str):\n",
    "    # reads at RGB\n",
    "    return np.asarray(Image.open(path_str))\n",
    "\n",
    "\n",
    "def find_metrics(seg_mask_img, org_mask_img):\n",
    "    f1, iou, pixacc = 0,0,0 \n",
    "    intersection = np.sum( np.logical_and(seg_mask_img, org_mask_img) )\n",
    "    union = np.sum ( np.logical_or(seg_mask_img, org_mask_img) )\n",
    "    cnt_seg = np.count_nonzero(seg_mask_img)\n",
    "    cnt_org = np.count_nonzero(org_mask_img)\n",
    "    h,w = seg_mask_img.shape\n",
    "    cnt_tot = h*w \n",
    "    cnt_true = intersection\n",
    "    cnt_false = cnt_tot - union \n",
    "\n",
    "    f1 = 2 * intersection / (cnt_seg + cnt_org) \n",
    "    iou = intersection / union\n",
    "    pixacc = (cnt_true + cnt_false) / cnt_tot\n",
    "\n",
    "    return f1, iou, pixacc\n",
    "\n",
    "def print_all(seg_mask_img, org_mask_img):\n",
    "    f1, iou, pixacc = find_metrics(seg_mask_img, org_mask_img)\n",
    "    print(\"f1 = \", f1, \" iou = \", iou, \" pixacc = \", pixacc)\n",
    "\n"
   ]
  },
  {
   "cell_type": "code",
   "execution_count": 23,
   "metadata": {},
   "outputs": [],
   "source": [
    "img_path = './final_dataset/images'\n",
    "mask_path = './final_dataset/masks'\n",
    "out_path = './final_dataset/masks_kmeans/'\n",
    "\n",
    "imgs = glob.glob(os.path.join(img_path, \"*.png\"))\n",
    "masks = glob.glob(os.path.join(mask_path, \"*.png\")) \n",
    "\n",
    "imgs = sorted(imgs)\n",
    "masks = sorted(masks)\n",
    "\n",
    "num_images = len(masks)\n",
    "\n",
    "# generate masks and save to file"
   ]
  },
  {
   "cell_type": "code",
   "execution_count": 24,
   "metadata": {},
   "outputs": [
    {
     "name": "stdout",
     "output_type": "stream",
     "text": [
      "Processed image 10\n",
      "Processed image 20\n",
      "Processed image 30\n",
      "Processed image 40\n",
      "Processed image 50\n",
      "Processed image 60\n",
      "Processed image 70\n",
      "Processed image 80\n",
      "Processed image 90\n",
      "Processed image 100\n",
      "Processed image 110\n",
      "Processed image 120\n",
      "Processed image 130\n",
      "Processed image 140\n",
      "Processed image 150\n",
      "Processed image 160\n",
      "Processed image 170\n",
      "Processed image 180\n",
      "Processed image 190\n",
      "Processed image 200\n"
     ]
    },
    {
     "ename": "KeyboardInterrupt",
     "evalue": "",
     "output_type": "error",
     "traceback": [
      "\u001b[0;31m---------------------------------------------------------------------------\u001b[0m",
      "\u001b[0;31mKeyboardInterrupt\u001b[0m                         Traceback (most recent call last)",
      "Cell \u001b[0;32mIn [24], line 6\u001b[0m\n\u001b[1;32m      4\u001b[0m \u001b[39mfor\u001b[39;00m i \u001b[39min\u001b[39;00m \u001b[39mrange\u001b[39m(\u001b[39m0\u001b[39m, num_images):\n\u001b[1;32m      5\u001b[0m     img \u001b[39m=\u001b[39m get_img(imgs[i])\n\u001b[0;32m----> 6\u001b[0m     seg_mask_img \u001b[39m=\u001b[39m kmeans_segmentation(img, show_image\u001b[39m=\u001b[39;49m\u001b[39mFalse\u001b[39;49;00m)\n\u001b[1;32m      7\u001b[0m     cv2\u001b[39m.\u001b[39mimwrite(out_path \u001b[39m+\u001b[39m \u001b[39m'\u001b[39m\u001b[39mimg_\u001b[39m\u001b[39m'\u001b[39m \u001b[39m+\u001b[39m \u001b[39mstr\u001b[39m(i)\u001b[39m.\u001b[39mzfill(\u001b[39m4\u001b[39m) \u001b[39m+\u001b[39m \u001b[39m'\u001b[39m\u001b[39m.png\u001b[39m\u001b[39m'\u001b[39m,  seg_mask_img)\n\u001b[1;32m      9\u001b[0m     org_mask_img \u001b[39m=\u001b[39m read_true_mask(masks[i])\n",
      "Cell \u001b[0;32mIn [21], line 9\u001b[0m, in \u001b[0;36mkmeans_segmentation\u001b[0;34m(img, show_image)\u001b[0m\n\u001b[1;32m      7\u001b[0m K\u001b[39m=\u001b[39m\u001b[39m2\u001b[39m\n\u001b[1;32m      8\u001b[0m attempts\u001b[39m=\u001b[39m\u001b[39m10\u001b[39m\n\u001b[0;32m----> 9\u001b[0m ret,label,center\u001b[39m=\u001b[39mcv2\u001b[39m.\u001b[39;49mkmeans(vectorized,K,\u001b[39mNone\u001b[39;49;00m,criteria,attempts,cv2\u001b[39m.\u001b[39;49mKMEANS_RANDOM_CENTERS)\n\u001b[1;32m     10\u001b[0m label \u001b[39m=\u001b[39m label\u001b[39m.\u001b[39mflatten()\n\u001b[1;32m     11\u001b[0m center \u001b[39m=\u001b[39m np\u001b[39m.\u001b[39muint8(center)\n",
      "\u001b[0;31mKeyboardInterrupt\u001b[0m: "
     ]
    }
   ],
   "source": [
    "\n",
    "f1_scores, iou_scores, pixacc_scores = [], [], []\n",
    "\n",
    "\n",
    "for i in range(0, num_images):\n",
    "    img = get_img(imgs[i])\n",
    "    seg_mask_img = kmeans_segmentation(img, show_image=False)\n",
    "    cv2.imwrite(out_path + 'img_' + str(i).zfill(4) + '.png',  seg_mask_img)\n",
    "\n",
    "    org_mask_img = read_true_mask(masks[i])\n",
    "    f1, iou, pixacc = find_metrics(seg_mask_img, org_mask_img)\n",
    "    f1_scores.append(f1)\n",
    "    iou_scores.append(iou)\n",
    "    pixacc_scores.append(pixacc)\n",
    "\n",
    "    if (i+1)%10 == 0 : \n",
    "        print(\"Processed image\", str(i+1))\n"
   ]
  },
  {
   "cell_type": "code",
   "execution_count": null,
   "metadata": {},
   "outputs": [],
   "source": [
    "sum_f1, sum_iou, sum_pixacc = 0,0,0 \n",
    "\n",
    "for i in range(0, num_images):\n",
    "    sum_f1 += f1_scores[i]\n",
    "    sum_iou += iou_scores[i]\n",
    "    sum_pixacc += pixacc_scores[i]\n",
    "\n",
    "print(\"Average F1 score = \", str(sum_f1 / num_images))\n",
    "print(\"Average IOU score = \", str(sum_iou / num_images))\n",
    "print(\"Average Pixacc score = \", str(sum_pixacc / num_images))"
   ]
  }
 ],
 "metadata": {
  "kernelspec": {
   "display_name": "Python 3.10.6 64-bit",
   "language": "python",
   "name": "python3"
  },
  "language_info": {
   "codemirror_mode": {
    "name": "ipython",
    "version": 3
   },
   "file_extension": ".py",
   "mimetype": "text/x-python",
   "name": "python",
   "nbconvert_exporter": "python",
   "pygments_lexer": "ipython3",
   "version": "3.10.6"
  },
  "orig_nbformat": 4,
  "vscode": {
   "interpreter": {
    "hash": "916dbcbb3f70747c44a77c7bcd40155683ae19c65e1c03b4aa3499c5328201f1"
   }
  }
 },
 "nbformat": 4,
 "nbformat_minor": 2
}
