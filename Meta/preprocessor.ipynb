{
 "cells": [
  {
   "cell_type": "markdown",
   "metadata": {},
   "source": [
    "## Preprocessing model \n",
    "- Take input as name of directory\n",
    "- Read all images from that directory\n",
    "- Resize all images to a fixed size\n",
    "- Convert to grayscale\n",
    "- Apply guassian blur\n",
    "- Export all processed images to another directory"
   ]
  },
  {
   "cell_type": "code",
   "execution_count": 5,
   "metadata": {},
   "outputs": [],
   "source": [
    "import cv2\n",
    "import os"
   ]
  },
  {
   "cell_type": "code",
   "execution_count": 6,
   "metadata": {},
   "outputs": [],
   "source": [
    "# input\n",
    "dir_path = './images_1'\n",
    "targ_dir_path = './images_2' # must exist \n",
    "target_size = (400, 200)\n"
   ]
  },
  {
   "cell_type": "code",
   "execution_count": 7,
   "metadata": {},
   "outputs": [],
   "source": [
    "# parameters\n",
    "# may change for windows\n",
    "dir_seperator = '/'\n",
    "gblur_kernel_size = (5,5)\n",
    "gblur_sigma = 0"
   ]
  },
  {
   "cell_type": "code",
   "execution_count": 8,
   "metadata": {},
   "outputs": [
    {
     "data": {
      "text/plain": [
       "['test1.jpg', 'grid1.png']"
      ]
     },
     "execution_count": 8,
     "metadata": {},
     "output_type": "execute_result"
    }
   ],
   "source": [
    "\n",
    "img_names = os.listdir(dir_path)\n",
    "img_names"
   ]
  },
  {
   "cell_type": "code",
   "execution_count": 9,
   "metadata": {},
   "outputs": [],
   "source": [
    "def preprocess(img):\n",
    "    # resize \n",
    "    img = cv2.resize(img, target_size)\n",
    "    # grayscale\n",
    "    img = cv2.cvtColor(img, cv2.COLOR_BGR2GRAY)\n",
    "\n",
    "    # apply guassian blur\n",
    "    img = cv2.GaussianBlur(img, gblur_kernel_size, gblur_sigma)\n",
    "\n",
    "    return img"
   ]
  },
  {
   "cell_type": "code",
   "execution_count": 10,
   "metadata": {},
   "outputs": [],
   "source": [
    "def split_name(name):\n",
    "    n = len(name)\n",
    "    dot_idx = n \n",
    "    for i in range(n, -1, -1):\n",
    "        if name[i]=='.' :\n",
    "            dot_idx = i\n",
    "            break\n",
    "    \n",
    "    fname = name[0:dot_idx]\n",
    "    ext = name[dot_idx+1:]\n",
    "\n",
    "    return fname, ext\n"
   ]
  },
  {
   "cell_type": "code",
   "execution_count": 11,
   "metadata": {},
   "outputs": [],
   "source": [
    "\n",
    "for img_name in img_names :\n",
    "    img_path = dir_path + dir_seperator + img_name\n",
    "    targ_img_path = targ_dir_path + dir_seperator + img_name\n",
    "    img = cv2.imread(img_path)\n",
    "    img = preprocess(img)\n",
    "    cv2.imwrite(targ_img_path, img)"
   ]
  }
 ],
 "metadata": {
  "kernelspec": {
   "display_name": "Python 3.10.6 64-bit",
   "language": "python",
   "name": "python3"
  },
  "language_info": {
   "codemirror_mode": {
    "name": "ipython",
    "version": 3
   },
   "file_extension": ".py",
   "mimetype": "text/x-python",
   "name": "python",
   "nbconvert_exporter": "python",
   "pygments_lexer": "ipython3",
   "version": "3.10.6"
  },
  "orig_nbformat": 4,
  "vscode": {
   "interpreter": {
    "hash": "916dbcbb3f70747c44a77c7bcd40155683ae19c65e1c03b4aa3499c5328201f1"
   }
  }
 },
 "nbformat": 4,
 "nbformat_minor": 2
}
